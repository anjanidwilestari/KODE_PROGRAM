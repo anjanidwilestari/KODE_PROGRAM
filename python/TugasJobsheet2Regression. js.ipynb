{
 "cells": [
  {
   "cell_type": "markdown",
   "metadata": {},
   "source": []
  },
  {
   "cell_type": "code",
   "execution_count": 61,
   "metadata": {},
   "outputs": [],
   "source": [
    "#Kode Program KNN tanpa library Scikit-learn\n",
    "import numpy as np\n",
    "import matplotlib.pyplot as plt\n"
   ]
  },
  {
   "cell_type": "code",
   "execution_count": 62,
   "metadata": {},
   "outputs": [],
   "source": [
    "x_train = np.array([\n",
    "                    [26 ,8],\n",
    "                    [26, 11],\n",
    "                    [29, 8],\n",
    "                    [34, 10],\n",
    "                    [36, 11],\n",
    "                    [33, 8],\n",
    "                    [30, 9],\n",
    "                    [27, 10],\n",
    "                    [27, 11],\n",
    "                    [26, 11],\n",
    "                    [31, 13],\n",
    "                    [34, 8],\n",
    "                    ])\n",
    "\n",
    "y_train = ['Go', 'Go', 'Go', 'Stay','Stay', 'Go', 'Go', 'Go', 'Go', 'Go', 'Stay','Go']\n",
    "\n",
    "x_test = np.array([[30,10]])"
   ]
  },
  {
   "cell_type": "code",
   "execution_count": 63,
   "metadata": {},
   "outputs": [
    {
     "name": "stdout",
     "output_type": "stream",
     "text": [
      "[4.47213595 4.12310563 2.23606798 4.         6.08276253 3.60555128\n",
      " 1.         3.         3.16227766 4.12310563 3.16227766 4.47213595]\n"
     ]
    }
   ],
   "source": [
    "dis = np.sqrt(np.sum((x_train-x_test)**2, axis=1))\n",
    "print(dis)"
   ]
  },
  {
   "cell_type": "code",
   "execution_count": 64,
   "metadata": {},
   "outputs": [
    {
     "name": "stdout",
     "output_type": "stream",
     "text": [
      "[4.47213595 4.12310563 2.23606798 4.         6.08276253 3.60555128\n",
      " 1.         3.         3.16227766 4.12310563 3.16227766 4.47213595]\n",
      "[6 2 7]\n",
      "['Go' 'Go' 'Go']\n"
     ]
    },
    {
     "data": {
      "text/plain": [
       "'Go'"
      ]
     },
     "execution_count": 64,
     "metadata": {},
     "output_type": "execute_result"
    }
   ],
   "source": [
    "dis = np.sqrt(np.sum((x_train-x_test)**2, axis=1))\n",
    "print(dis)\n",
    "\n",
    "nn_sort = dis.argsort()[:3]\n",
    "print(nn_sort)\n",
    "nn_gender = np.take(y_train,nn_sort)\n",
    "print(nn_gender)\n",
    "\n",
    "\n",
    "from collections import Counter\n",
    "b = Counter(np.take(y_train,dis.argsort()[:3]))\n",
    "b.most_common(1)[0][0]"
   ]
  },
  {
   "cell_type": "code",
   "execution_count": 65,
   "metadata": {},
   "outputs": [
    {
     "name": "stdout",
     "output_type": "stream",
     "text": [
      "[[0]\n",
      " [0]\n",
      " [0]\n",
      " [1]\n",
      " [1]\n",
      " [0]\n",
      " [0]\n",
      " [0]\n",
      " [0]\n",
      " [0]\n",
      " [1]\n",
      " [0]]\n",
      "['Go']\n"
     ]
    }
   ],
   "source": [
    "#Kode Program KNN menggunakan library Scikit-learn\n",
    "from sklearn.preprocessing import LabelBinarizer\n",
    "from sklearn.neighbors import KNeighborsClassifier\n",
    "\n",
    "x_train = np.array([\n",
    "                [26, 8],\n",
    "                [26, 11],\n",
    "                [29, 8],\n",
    "                [34, 10],\n",
    "                [36, 11],\n",
    "                [33, 8],\n",
    "                [30, 9],\n",
    "                [27, 10],\n",
    "                [27, 11],\n",
    "                [26, 11],\n",
    "                [31, 13],\n",
    "                [34, 8],\n",
    "                ])\n",
    "\n",
    "y_train = ['Go', 'Go', 'Go', 'Stay', 'Stay', 'Go', 'Go', 'Go', 'Go', 'Go', 'Stay', 'Go']\n",
    "\n",
    "lb = LabelBinarizer()\n",
    "y_trainbin = lb.fit_transform(y_train)\n",
    "print(y_trainbin)\n",
    "\n",
    "k = 3\n",
    "clf = KNeighborsClassifier(n_neighbors=k)\n",
    "clf.fit(x_train, y_trainbin.reshape(-1))\n",
    "pred_bin = clf.predict(np.array([x_test]).reshape(1, -1))[0]\n",
    "pred_label = lb.inverse_transform(pred_bin)\n",
    "print(pred_label)\n"
   ]
  },
  {
   "cell_type": "code",
   "execution_count": 66,
   "metadata": {},
   "outputs": [
    {
     "name": "stdout",
     "output_type": "stream",
     "text": [
      "\n",
      "Label Biner : [1 0 0 1 0]\n",
      "['Go' 'Go' 'Go' 'Stay' 'Go']\n"
     ]
    }
   ],
   "source": [
    "#Menggunakan Library Scikit-Learn\n",
    "from sklearn.preprocessing import LabelBinarizer\n",
    "from sklearn.neighbors import KNeighborsClassifier\n",
    "\n",
    "x_test = np.array([\n",
    "                [30, 10],\n",
    "                [28, 13],\n",
    "                [29, 9],\n",
    "                [31, 12],\n",
    "                [27, 8]\n",
    "                ])\n",
    "\n",
    "y_test = ['Stay', 'Go', 'Go', 'Stay', 'Go']\n",
    "\n",
    "# lb=LabelBinarizer()\n",
    "y_testbin = lb.transform(y_test)\n",
    "print('\\nLabel Biner : %s' % y_testbin.T[0])\n",
    "\n",
    "k = 3\n",
    "clf = KNeighborsClassifier(n_neighbors=k)\n",
    "clf.fit(x_train, y_trainbin.reshape(-1))\n",
    "pred_bin = clf.predict(x_test)\n",
    "pred_label = lb.inverse_transform(pred_bin)\n",
    "print(pred_label)\n"
   ]
  },
  {
   "cell_type": "code",
   "execution_count": 67,
   "metadata": {},
   "outputs": [
    {
     "name": "stdout",
     "output_type": "stream",
     "text": [
      "Akurasi: 0.8\n"
     ]
    }
   ],
   "source": [
    "#Kode program untuk menghitung akurasi\n",
    "from sklearn.metrics import accuracy_score\n",
    "print('Akurasi: %s' % accuracy_score(y_testbin,pred_bin))"
   ]
  },
  {
   "cell_type": "code",
   "execution_count": 68,
   "metadata": {},
   "outputs": [
    {
     "name": "stdout",
     "output_type": "stream",
     "text": [
      "Presisi: 1.0\n"
     ]
    }
   ],
   "source": [
    "#Kode program untuk menghitung presisi\n",
    "from sklearn.metrics import precision_score\n",
    "print('Presisi: %s' % precision_score(y_testbin,pred_bin))"
   ]
  },
  {
   "cell_type": "code",
   "execution_count": 69,
   "metadata": {},
   "outputs": [
    {
     "name": "stdout",
     "output_type": "stream",
     "text": [
      "Recall: 0.5\n"
     ]
    }
   ],
   "source": [
    "#Kode program untuk menghitung recall\n",
    "from sklearn.metrics import recall_score\n",
    "print('Recall: %s' % recall_score(y_testbin,pred_bin))"
   ]
  },
  {
   "cell_type": "code",
   "execution_count": 70,
   "metadata": {},
   "outputs": [],
   "source": [
    "#Evaluasi Performa Regresi\n",
    "\n",
    "import numpy as np\n",
    "import matplotlib.pyplot as plt"
   ]
  },
  {
   "cell_type": "code",
   "execution_count": 71,
   "metadata": {},
   "outputs": [],
   "source": [
    "x_train = np.array([\n",
    "                    [26,1],\n",
    "                    [26,1],\n",
    "                    [29,1],\n",
    "                    [34,0],\n",
    "                    [36,0],\n",
    "                    [33,1],\n",
    "                    [30,1],\n",
    "                    [27,1],\n",
    "                    [27,1],\n",
    "                    [26,1],\n",
    "                    [31,0],\n",
    "                    [34,1]\n",
    "                ])\n",
    "\n",
    "y_train=[8,11,8,10,11,8,9,10,11,11,13,8]\n",
    "\n",
    "x_test = np.array([[30,0],\n",
    "                   [28,1],\n",
    "                   [29,1],\n",
    "                   [31,0],\n",
    "                   [27,1]\n",
    "                    ])\n",
    "\n",
    "y_test=[10,13,9,12,8]"
   ]
  },
  {
   "cell_type": "code",
   "execution_count": 72,
   "metadata": {},
   "outputs": [
    {
     "name": "stdout",
     "output_type": "stream",
     "text": [
      "prediksi : [10.          9.66666667  9.         10.         10.66666667]\n",
      "MAE : 1.6\n",
      "MSE : 4.444444444444445\n"
     ]
    }
   ],
   "source": [
    "from sklearn.preprocessing import LabelBinarizer\n",
    "from sklearn.neighbors import KNeighborsRegressor\n",
    "from sklearn.metrics import mean_absolute_error, mean_squared_error\n",
    "k=3\n",
    "clf = KNeighborsRegressor(n_neighbors=k)\n",
    "clf.fit(x_train,y_train)\n",
    "predictions=clf.predict(x_test)\n",
    "print('prediksi : %s' %predictions)\n",
    "print('MAE : %s' %mean_absolute_error(y_test,predictions))\n",
    "print('MSE : %s' %mean_squared_error(y_test,predictions))"
   ]
  }
 ],
 "metadata": {
  "kernelspec": {
   "display_name": "Python 3.10.6 64-bit",
   "language": "python",
   "name": "python3"
  },
  "language_info": {
   "codemirror_mode": {
    "name": "ipython",
    "version": 3
   },
   "file_extension": ".py",
   "mimetype": "text/x-python",
   "name": "python",
   "nbconvert_exporter": "python",
   "pygments_lexer": "ipython3",
   "version": "3.10.6"
  },
  "orig_nbformat": 4,
  "vscode": {
   "interpreter": {
    "hash": "835d225eeae45a5e845604c67835ad639471b951e2b927bb4450a30957c3dc54"
   }
  }
 },
 "nbformat": 4,
 "nbformat_minor": 2
}
